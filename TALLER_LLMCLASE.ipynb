{
 "cells": [
  {
   "cell_type": "code",
   "id": "initial_id",
   "metadata": {
    "collapsed": true,
    "ExecuteTime": {
     "end_time": "2025-03-22T02:14:45.489798Z",
     "start_time": "2025-03-22T02:14:44.937807Z"
    }
   },
   "source": [
    "import getpass\n",
    "import os\n",
    "\n",
    "if not os.environ.get(\"OPENAI_API_KEY\"):\n",
    "    os.environ[\"OPENAI_API_KEY\"] =  'CLAVE AQUI'\n",
    "\n",
    "from langchain.chat_models import init_chat_model\n",
    "\n",
    "model = init_chat_model(\"gpt-4o-mini\", model_provider=\"openai\")"
   ],
   "outputs": [],
   "execution_count": 3
  },
  {
   "metadata": {
    "ExecuteTime": {
     "end_time": "2025-03-22T02:14:45.496685Z",
     "start_time": "2025-03-22T02:14:45.493996Z"
    }
   },
   "cell_type": "code",
   "source": [
    "from langchain_core.messages import HumanMessage, SystemMessage\n",
    "\n",
    "messages = [\n",
    "    SystemMessage(\"Translate the following from English into Italian\"),\n",
    "    HumanMessage(\"hi!\"),\n",
    "]"
   ],
   "id": "821877d12986e84e",
   "outputs": [],
   "execution_count": 4
  },
  {
   "metadata": {
    "ExecuteTime": {
     "end_time": "2025-03-22T02:14:46.350866Z",
     "start_time": "2025-03-22T02:14:45.511001Z"
    }
   },
   "cell_type": "code",
   "source": [
    "response = model.invoke(messages)\n",
    "print(response.content)  # Esto debería imprimir \"Ciao!\""
   ],
   "id": "2e1a9d6d740a1c32",
   "outputs": [
    {
     "name": "stdout",
     "output_type": "stream",
     "text": [
      "Ciao!\n"
     ]
    }
   ],
   "execution_count": 5
  },
  {
   "metadata": {
    "ExecuteTime": {
     "end_time": "2025-03-22T02:14:46.808815Z",
     "start_time": "2025-03-22T02:14:46.364434Z"
    }
   },
   "cell_type": "code",
   "source": [
    "for token in model.stream(messages):\n",
    "    print(token.content, end=\"|\")"
   ],
   "id": "49003f1e9544c75f",
   "outputs": [
    {
     "name": "stdout",
     "output_type": "stream",
     "text": [
      "|C|iao|!||"
     ]
    }
   ],
   "execution_count": 6
  },
  {
   "metadata": {
    "ExecuteTime": {
     "end_time": "2025-03-22T02:14:46.819368Z",
     "start_time": "2025-03-22T02:14:46.815744Z"
    }
   },
   "cell_type": "code",
   "source": [
    "from langchain_core.prompts import ChatPromptTemplate\n",
    "\n",
    "system_template = \"Translate the following from English into {language}\"\n",
    "prompt_template = ChatPromptTemplate.from_messages(\n",
    "    [(\"system\", system_template), (\"user\", \"{text}\")]\n",
    ")"
   ],
   "id": "6b8bba2f9f885ea",
   "outputs": [],
   "execution_count": 7
  },
  {
   "metadata": {
    "ExecuteTime": {
     "end_time": "2025-03-22T02:14:46.833429Z",
     "start_time": "2025-03-22T02:14:46.829205Z"
    }
   },
   "cell_type": "code",
   "source": "prompt = prompt_template.invoke({\"language\": \"Italian\", \"text\": \"hi!\"})",
   "id": "c0b5448c750f5b8c",
   "outputs": [],
   "execution_count": 8
  },
  {
   "metadata": {
    "ExecuteTime": {
     "end_time": "2025-03-22T02:14:46.847744Z",
     "start_time": "2025-03-22T02:14:46.844274Z"
    }
   },
   "cell_type": "code",
   "source": "messages = prompt.to_messages()",
   "id": "57913bf6bbefc1cf",
   "outputs": [],
   "execution_count": 9
  },
  {
   "metadata": {
    "ExecuteTime": {
     "end_time": "2025-03-22T02:14:47.310422Z",
     "start_time": "2025-03-22T02:14:46.858473Z"
    }
   },
   "cell_type": "code",
   "source": [
    "response = model.invoke(prompt)\n",
    "print(response.content)  # Esto debería imprimir \"Ciao!\"  # Esto debería imprimir \"Ciao!\""
   ],
   "id": "4492049323236e31",
   "outputs": [
    {
     "name": "stdout",
     "output_type": "stream",
     "text": [
      "Ciao!\n"
     ]
    }
   ],
   "execution_count": 10
  }
 ],
 "metadata": {
  "kernelspec": {
   "display_name": "Python 3",
   "language": "python",
   "name": "python3"
  },
  "language_info": {
   "codemirror_mode": {
    "name": "ipython",
    "version": 2
   },
   "file_extension": ".py",
   "mimetype": "text/x-python",
   "name": "python",
   "nbconvert_exporter": "python",
   "pygments_lexer": "ipython2",
   "version": "2.7.6"
  }
 },
 "nbformat": 4,
 "nbformat_minor": 5
}
